{
  "nbformat": 4,
  "nbformat_minor": 0,
  "metadata": {
    "colab": {
      "provenance": [],
      "authorship_tag": "ABX9TyPWoAeSDSw+/lNytzuD49Xd",
      "include_colab_link": true
    },
    "kernelspec": {
      "name": "python3",
      "display_name": "Python 3"
    },
    "language_info": {
      "name": "python"
    }
  },
  "cells": [
    {
      "cell_type": "markdown",
      "metadata": {
        "id": "view-in-github",
        "colab_type": "text"
      },
      "source": [
        "<a href=\"https://colab.research.google.com/github/Amarsinh0/control-and-flow-statements/blob/main/average.ipynb\" target=\"_parent\"><img src=\"https://colab.research.google.com/assets/colab-badge.svg\" alt=\"Open In Colab\"/></a>"
      ]
    },
    {
      "cell_type": "code",
      "execution_count": null,
      "metadata": {
        "id": "hPMUn7-E7fuQ"
      },
      "outputs": [],
      "source": [
        "# find the average \n",
        "n=int(input('enter the number : '))\n",
        "l=[]\n",
        "for i in range (1,n+1):\n",
        "    s=l.append(i)\n",
        "\n",
        "def cal_average (n):\n",
        "    sum_n=0\n",
        "    for i in(n):\n",
        "        sum_n=sum_n+i\n",
        "\n",
        "    ave=sum_n/len(n)\n",
        "    return ave\n",
        "print(cal_average(l))"
      ]
    }
  ]
}