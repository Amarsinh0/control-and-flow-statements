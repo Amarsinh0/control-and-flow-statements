{
  "nbformat": 4,
  "nbformat_minor": 0,
  "metadata": {
    "colab": {
      "provenance": [],
      "authorship_tag": "ABX9TyMLTpjx5jQYR3O/vufrg53d",
      "include_colab_link": true
    },
    "kernelspec": {
      "name": "python3",
      "display_name": "Python 3"
    },
    "language_info": {
      "name": "python"
    }
  },
  "cells": [
    {
      "cell_type": "markdown",
      "metadata": {
        "id": "view-in-github",
        "colab_type": "text"
      },
      "source": [
        "<a href=\"https://colab.research.google.com/github/Amarsinh0/control-and-flow-statements/blob/main/inverted%20pyramid%20pattern.ipynb\" target=\"_parent\"><img src=\"https://colab.research.google.com/assets/colab-badge.svg\" alt=\"Open In Colab\"/></a>"
      ]
    },
    {
      "cell_type": "code",
      "execution_count": 3,
      "metadata": {
        "colab": {
          "base_uri": "https://localhost:8080/"
        },
        "id": "MQBPxGgfEJFw",
        "outputId": "a4a8e0ec-cf2e-46cb-8fba-a0b4f17bb5c7"
      },
      "outputs": [
        {
          "output_type": "stream",
          "name": "stdout",
          "text": [
            "Enter the number of rows :6\n",
            "*  *  *  *  *  *  \n",
            " *  *  *  *  *  \n",
            "  *  *  *  *  \n",
            "   *  *  *  \n",
            "    *  *  \n",
            "     *  \n"
          ]
        }
      ],
      "source": [
        "rows= int(input(\"Enter the number of rows :\"))\n",
        "for i in range(rows,0,-1):\n",
        "  for j in range(0,rows-i):\n",
        "    print(end=\" \")\n",
        "  for j in range(0,i):\n",
        "    print(\"* \",end=\" \")\n",
        "  print()\n"
      ]
    }
  ]
}