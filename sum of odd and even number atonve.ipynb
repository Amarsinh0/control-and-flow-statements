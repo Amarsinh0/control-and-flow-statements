{
  "nbformat": 4,
  "nbformat_minor": 0,
  "metadata": {
    "colab": {
      "provenance": [],
      "authorship_tag": "ABX9TyNFeGw7Gc5CM5ybCe67FHE9",
      "include_colab_link": true
    },
    "kernelspec": {
      "name": "python3",
      "display_name": "Python 3"
    },
    "language_info": {
      "name": "python"
    }
  },
  "cells": [
    {
      "cell_type": "markdown",
      "metadata": {
        "id": "view-in-github",
        "colab_type": "text"
      },
      "source": [
        "<a href=\"https://colab.research.google.com/github/Amarsinh0/control-and-flow-statements/blob/main/sum%20of%20odd%20and%20even%20number%20atonve.ipynb\" target=\"_parent\"><img src=\"https://colab.research.google.com/assets/colab-badge.svg\" alt=\"Open In Colab\"/></a>"
      ]
    },
    {
      "cell_type": "code",
      "execution_count": 1,
      "metadata": {
        "colab": {
          "base_uri": "https://localhost:8080/"
        },
        "id": "MnDr7QeCOVjG",
        "outputId": "da463c04-1ac4-4a30-bb15-2e8b97b51d5e"
      },
      "outputs": [
        {
          "output_type": "stream",
          "name": "stdout",
          "text": [
            "Enter the qnantity of number : 5\n",
            "Enter the number:12\n",
            "Enter the number:15\n",
            "Enter the number:23\n",
            "Enter the number:44\n",
            "Enter the number:9\n",
            "The sum of even number:56 and The sum of odd number:47\n"
          ]
        }
      ],
      "source": [
        "# sum of odd number and even number from given numbers\n",
        "sum_even=0\n",
        "sum_odd=0\n",
        "\n",
        "n=int(input(\"Enter the qnantity of number : \"))\n",
        "for i in range (1,n+1):\n",
        "     a= int(input(\"Enter the number:\"))\n",
        "     if a%2==0:\n",
        "        sum_even=sum_even+a\n",
        "\n",
        "     else:\n",
        "\n",
        "         sum_odd=sum_odd+a\n",
        "\n",
        "print(\"The sum of even number:{0} and The sum of odd number:{1}\".format( sum_even,sum_odd))\n",
        "\n",
        "\n",
        "\n"
      ]
    },
    {
      "cell_type": "markdown",
      "source": [],
      "metadata": {
        "id": "w2BqoTGpOWkx"
      }
    }
  ]
}