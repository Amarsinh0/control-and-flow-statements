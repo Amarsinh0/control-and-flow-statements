{
  "nbformat": 4,
  "nbformat_minor": 0,
  "metadata": {
    "colab": {
      "provenance": [],
      "authorship_tag": "ABX9TyOL1tV7CdDm1gHXy3NVJRJ/",
      "include_colab_link": true
    },
    "kernelspec": {
      "name": "python3",
      "display_name": "Python 3"
    },
    "language_info": {
      "name": "python"
    }
  },
  "cells": [
    {
      "cell_type": "markdown",
      "metadata": {
        "id": "view-in-github",
        "colab_type": "text"
      },
      "source": [
        "<a href=\"https://colab.research.google.com/github/Amarsinh0/control-and-flow-statements/blob/main/prime%20number%20%20or%20not.ipynb\" target=\"_parent\"><img src=\"https://colab.research.google.com/assets/colab-badge.svg\" alt=\"Open In Colab\"/></a>"
      ]
    },
    {
      "cell_type": "code",
      "execution_count": 12,
      "metadata": {
        "colab": {
          "base_uri": "https://localhost:8080/"
        },
        "id": "RZmqFskSeOzv",
        "outputId": "0b14ac81-8b55-432a-a414-b37dbc89c0ec"
      },
      "outputs": [
        {
          "output_type": "stream",
          "name": "stdout",
          "text": [
            "Enter the number:  17\n",
            "17 num is prime number\n"
          ]
        }
      ],
      "source": [
        "num=int(input(\"Enter the number:  \"))\n",
        "\n",
        "if num>1:\n",
        "  for i in range(2,num):\n",
        "     if num %i==0:\n",
        "      print(num,\"num is not prime number\")\n",
        "      break\n",
        "  else:\n",
        "      print(num,\"num is prime number\")\n",
        "else:\n",
        "  print(num,\"is not a prime number\") "
      ]
    }
  ]
}