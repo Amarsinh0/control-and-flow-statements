{
  "nbformat": 4,
  "nbformat_minor": 0,
  "metadata": {
    "colab": {
      "provenance": [],
      "authorship_tag": "ABX9TyPZRM5Xiso1tCcorKPjk0IF",
      "include_colab_link": true
    },
    "kernelspec": {
      "name": "python3",
      "display_name": "Python 3"
    },
    "language_info": {
      "name": "python"
    }
  },
  "cells": [
    {
      "cell_type": "markdown",
      "metadata": {
        "id": "view-in-github",
        "colab_type": "text"
      },
      "source": [
        "<a href=\"https://colab.research.google.com/github/Amarsinh0/control-and-flow-statements/blob/main/average%20of%20any%20given%20numbers.ipynb\" target=\"_parent\"><img src=\"https://colab.research.google.com/assets/colab-badge.svg\" alt=\"Open In Colab\"/></a>"
      ]
    },
    {
      "cell_type": "code",
      "execution_count": 4,
      "metadata": {
        "colab": {
          "base_uri": "https://localhost:8080/"
        },
        "id": "qTT3213TV8KM",
        "outputId": "98876570-7e3c-474e-f26d-091f0bfedca5"
      },
      "outputs": [
        {
          "output_type": "stream",
          "name": "stdout",
          "text": [
            "Enter how many numbers do you want to find average : 5\n",
            "Enter the number:18\n",
            "Enter the number:19\n",
            "Enter the number:17\n",
            "Enter the number:27\n",
            "Enter the number:48\n",
            "the sum of given numbers is 129\n",
            "the average of the given numbers is 25.8\n"
          ]
        }
      ],
      "source": [
        "# find the average of any number\n",
        "n=int(input('Enter how many numbers do you want to find average : '))\n",
        "sum=0\n",
        "for i in range(1,n+1):\n",
        "    a=int(input('Enter the number:'))\n",
        "    sum=sum+a\n",
        "\n",
        "print(f'the sum of given numbers is {sum}')\n",
        "average=sum/n\n",
        "print(f'the average of the given numbers is {average}')\n",
        "\n"
      ]
    }
  ]
}