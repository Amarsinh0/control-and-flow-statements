{
  "nbformat": 4,
  "nbformat_minor": 0,
  "metadata": {
    "colab": {
      "provenance": [],
      "authorship_tag": "ABX9TyOpNxLJI4rnodCSEBp05yj7",
      "include_colab_link": true
    },
    "kernelspec": {
      "name": "python3",
      "display_name": "Python 3"
    },
    "language_info": {
      "name": "python"
    }
  },
  "cells": [
    {
      "cell_type": "markdown",
      "metadata": {
        "id": "view-in-github",
        "colab_type": "text"
      },
      "source": [
        "<a href=\"https://colab.research.google.com/github/Amarsinh0/control-and-flow-statements/blob/main/sum%20of%20odd%20%26%20even%20num.ipynb\" target=\"_parent\"><img src=\"https://colab.research.google.com/assets/colab-badge.svg\" alt=\"Open In Colab\"/></a>"
      ]
    },
    {
      "cell_type": "code",
      "execution_count": 21,
      "metadata": {
        "colab": {
          "base_uri": "https://localhost:8080/"
        },
        "id": "hnsL9QNnilZh",
        "outputId": "39a725d4-a17c-4871-c33f-2b95ac55d822"
      },
      "outputs": [
        {
          "output_type": "stream",
          "name": "stdout",
          "text": [
            "enter num:  10\n",
            "sum of odd number from 1 to 10 = 25\n",
            "sum of even number from 1 to 10 = 30\n"
          ]
        }
      ],
      "source": [
        "#sum of even or odd number\n",
        "\n",
        "odd=0\n",
        "even=0\n",
        "\n",
        "num=int(input(\"enter num:  \"))\n",
        "for i  in range (1,num+1):\n",
        "    if i % 2!=0:\n",
        "      odd=odd+i\n",
        "      \n",
        "    else:\n",
        "      even=even+i\n",
        "\n",
        "print(\"sum of odd number from 1 to {0} = {1}\".format(i,odd))\n",
        "print(\"sum of even number from 1 to {0} = {1}\".format(i,even))\n",
        "   \n"
      ]
    }
  ]
}