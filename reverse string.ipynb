{
  "nbformat": 4,
  "nbformat_minor": 0,
  "metadata": {
    "colab": {
      "provenance": [],
      "authorship_tag": "ABX9TyNOmGJfNsGco9Gg87710FZa",
      "include_colab_link": true
    },
    "kernelspec": {
      "name": "python3",
      "display_name": "Python 3"
    },
    "language_info": {
      "name": "python"
    }
  },
  "cells": [
    {
      "cell_type": "markdown",
      "metadata": {
        "id": "view-in-github",
        "colab_type": "text"
      },
      "source": [
        "<a href=\"https://colab.research.google.com/github/Amarsinh0/control-and-flow-statements/blob/main/reverse%20string.ipynb\" target=\"_parent\"><img src=\"https://colab.research.google.com/assets/colab-badge.svg\" alt=\"Open In Colab\"/></a>"
      ]
    },
    {
      "cell_type": "code",
      "execution_count": 1,
      "metadata": {
        "colab": {
          "base_uri": "https://localhost:8080/"
        },
        "id": "7nKJLK0U9-D6",
        "outputId": "5a365a5a-5b9e-46ea-b4aa-cd17a190bcb7"
      },
      "outputs": [
        {
          "output_type": "stream",
          "name": "stdout",
          "text": [
            "enter the number:12347890\n",
            "09874321\n"
          ]
        }
      ],
      "source": [
        "# write a program reverse the nhe number opted from user:\n",
        "n=(input(\"enter the number:\"))\n",
        "l=[]\n",
        "for i in n:\n",
        "    l.append(i)\n",
        "l=l[::-1]\n",
        "sep=''\n",
        "x=sep.join(l)\n",
        "print(x)"
      ]
    }
  ]
}