{
  "nbformat": 4,
  "nbformat_minor": 0,
  "metadata": {
    "colab": {
      "provenance": [],
      "authorship_tag": "ABX9TyO1SW3Y3LhvMlLyBW7Kb7ev",
      "include_colab_link": true
    },
    "kernelspec": {
      "name": "python3",
      "display_name": "Python 3"
    },
    "language_info": {
      "name": "python"
    }
  },
  "cells": [
    {
      "cell_type": "markdown",
      "metadata": {
        "id": "view-in-github",
        "colab_type": "text"
      },
      "source": [
        "<a href=\"https://colab.research.google.com/github/Amarsinh0/control-and-flow-statements/blob/main/inverted%20half%20pyramid%20of%20numbers.ipynb\" target=\"_parent\"><img src=\"https://colab.research.google.com/assets/colab-badge.svg\" alt=\"Open In Colab\"/></a>"
      ]
    },
    {
      "cell_type": "code",
      "source": [
        "str1= \"ARTIFICIAL INTELLIGENCE\"\n",
        "reverse = str1[::-1]\n",
        "print(\"Reverse String is: \",reverse)\n"
      ],
      "metadata": {
        "colab": {
          "base_uri": "https://localhost:8080/"
        },
        "id": "lkoktH58b5hg",
        "outputId": "54eb2afd-81f0-4746-c47c-fb22138e242f"
      },
      "execution_count": null,
      "outputs": [
        {
          "output_type": "stream",
          "name": "stdout",
          "text": [
            "Reverse String is:  ECNEGILLETNI LAICIFITRA\n"
          ]
        }
      ]
    },
    {
      "cell_type": "code",
      "source": [
        "# write a programin python to check the sequance in palindrome\n",
        "a=input(\"Enter sequance \")\n",
        "b=a[::-1]\n",
        "if a==b:\n",
        "  print(\" it is palindrome\")\n",
        "else:\n",
        "  print(\" not a palindrome\")"
      ],
      "metadata": {
        "colab": {
          "base_uri": "https://localhost:8080/"
        },
        "id": "eg-Sw12Ms4Vm",
        "outputId": "e4aeb754-9177-4557-e881-01dcc1c357f2"
      },
      "execution_count": null,
      "outputs": [
        {
          "output_type": "stream",
          "name": "stdout",
          "text": [
            "Enter sequance malayalam\n",
            " it is palindrome\n"
          ]
        }
      ]
    },
    {
      "cell_type": "markdown",
      "source": [],
      "metadata": {
        "id": "eM0le5ZohNaI"
      }
    },
    {
      "cell_type": "code",
      "source": [
        "# find the factorial of number using python progarm:\n",
        "n=int(input(\"Enter the number : \"))\n",
        "num=1\n",
        "if n < 0 :\n",
        "   print(\" sorry!factorial do not exist for negative numbers\")\n",
        "\n",
        "elif n==0:\n",
        "  \n",
        "  print(\" The factorial of 0 is 1\")\n",
        "\n",
        "else:\n",
        "  for i in range(1,n+1):\n",
        "    num = num * i\n",
        "\n",
        "  print(\"factorial of\",n,\"is: \",num)\n",
        "\n",
        "\n"
      ],
      "metadata": {
        "colab": {
          "base_uri": "https://localhost:8080/"
        },
        "id": "jck0ALBQd5tQ",
        "outputId": "4359e210-cc06-4099-bfa5-c96890318be3"
      },
      "execution_count": null,
      "outputs": [
        {
          "output_type": "stream",
          "name": "stdout",
          "text": [
            "Enter the number : 6\n",
            "factorial of 6 is:  720\n"
          ]
        }
      ]
    },
    {
      "cell_type": "code",
      "source": [
        "#program to make half pyramid using *\n",
        "\n",
        "rows=int(input(\"Enter the number of rows:  \"))\n",
        "for i in range(rows):\n",
        "  for j in range(i+1):\n",
        "    print(\"* \",end='')\n",
        "  print (\"\\n\")"
      ],
      "metadata": {
        "colab": {
          "base_uri": "https://localhost:8080/"
        },
        "id": "RAQWcNvZjCvv",
        "outputId": "054b1916-73d9-4baa-a1d9-42204a9dc300"
      },
      "execution_count": null,
      "outputs": [
        {
          "output_type": "stream",
          "name": "stdout",
          "text": [
            "Enter the number of rows:  6\n",
            "* \n",
            "\n",
            "* * \n",
            "\n",
            "* * * \n",
            "\n",
            "* * * * \n",
            "\n",
            "* * * * * \n",
            "\n",
            "* * * * * * \n",
            "\n"
          ]
        }
      ]
    },
    {
      "cell_type": "code",
      "source": [
        "# program to inverted half pyramid using * in python\n",
        "rows=int(input(\"Enter the number of rows:  \"))\n",
        "for i in range(rows,0,-1):\n",
        "  for j in range(0,i):\n",
        "                 \n",
        "    print(\"* \",end=\" \")\n",
        "  print('\\n')"
      ],
      "metadata": {
        "colab": {
          "base_uri": "https://localhost:8080/"
        },
        "id": "EVcATwqwi5sz",
        "outputId": "39aa864a-eeff-4830-df1c-3443d6489086"
      },
      "execution_count": null,
      "outputs": [
        {
          "output_type": "stream",
          "name": "stdout",
          "text": [
            "Enter the number of rows:  5\n",
            "*  *  *  *  *  \n",
            "\n",
            "*  *  *  *  \n",
            "\n",
            "*  *  *  \n",
            "\n",
            "*  *  \n",
            "\n",
            "*  \n",
            "\n"
          ]
        }
      ]
    },
    {
      "cell_type": "code",
      "source": [
        "# program to inverted half pyramid using numbers in python\n",
        "rows=int(input(\"Enter the number of rows: \"))\n",
        "for i in range(rows,0,-1):\n",
        "  for j in range(1,i+1):\n",
        "    print(j,end=\" \")\n",
        "  print(\"\\n\")\n",
        "\n"
      ],
      "metadata": {
        "colab": {
          "base_uri": "https://localhost:8080/"
        },
        "id": "2BNVi46xqU6Z",
        "outputId": "19ebb69a-7f62-412f-8069-573f6f2042be"
      },
      "execution_count": null,
      "outputs": [
        {
          "output_type": "stream",
          "name": "stdout",
          "text": [
            "Enter the number of rows: 5\n",
            "1 2 3 4 5 \n",
            "\n",
            "1 2 3 4 \n",
            "\n",
            "1 2 3 \n",
            "\n",
            "1 2 \n",
            "\n",
            "1 \n",
            "\n"
          ]
        }
      ]
    },
    {
      "cell_type": "code",
      "source": [
        "# python pattern program: pyramid of \"*\"\n",
        "rows=int(input(\"Enter the number of rows : \"))\n",
        "for i in range(0,rows):\n",
        "  for j in range(0,rows-i-1):\n",
        "    print(end=\" \")\n",
        "  for j in range (0,i+1):\n",
        "    print('*',end=\" \")\n",
        "  print()"
      ],
      "metadata": {
        "colab": {
          "base_uri": "https://localhost:8080/"
        },
        "id": "mpmuAWdEr9Bv",
        "outputId": "c69a7faf-cfba-4a37-853b-2e3c084acd26"
      },
      "execution_count": null,
      "outputs": [
        {
          "output_type": "stream",
          "name": "stdout",
          "text": [
            "Enter the number of rows : 6\n",
            "     * \n",
            "    * * \n",
            "   * * * \n",
            "  * * * * \n",
            " * * * * * \n",
            "* * * * * * \n"
          ]
        }
      ]
    },
    {
      "cell_type": "code",
      "source": [
        "rows= int(input(\"Enter the number of rows :\"))\n",
        "for i in range(rows,0,-1):\n",
        "  for j in range(0,rows-i):\n",
        "    print(end=\" \")\n",
        "  for j in range(0,i):\n",
        "    print(\"* \",end=\" \")\n",
        "  print()\n"
      ],
      "metadata": {
        "colab": {
          "base_uri": "https://localhost:8080/"
        },
        "id": "1QibmhC60v8Q",
        "outputId": "c829ecb8-97e1-4a2b-ecc4-00dfc8442bb8"
      },
      "execution_count": null,
      "outputs": [
        {
          "output_type": "stream",
          "name": "stdout",
          "text": [
            "Enter the number of rows :5\n",
            "*  *  *  *  *  \n",
            " *  *  *  *  \n",
            "  *  *  *  \n",
            "   *  *  \n",
            "    *  \n"
          ]
        }
      ]
    },
    {
      "cell_type": "code",
      "source": [
        "#print diamond shape pattern by using \"*\"in python:\n",
        "rows=int(input(\"Enter the number of rows: \"))\n",
        "def pyramid(rows):\n",
        "  for i in range(rows):\n",
        "    print(''*(rows-i-1) + \"* \"*(i+1))\n",
        "  print() \n",
        "  for j in range(rows-1,0,-1):\n",
        "    print(''(rows-j)+\"* \"*(j))\n",
        "  print()"
      ],
      "metadata": {
        "colab": {
          "base_uri": "https://localhost:8080/"
        },
        "id": "agin5_HX7jgy",
        "outputId": "a945ee24-fb1a-478a-cbea-db296e424636"
      },
      "execution_count": null,
      "outputs": [
        {
          "name": "stdout",
          "output_type": "stream",
          "text": [
            "Enter the number of rows: 6\n"
          ]
        }
      ]
    },
    {
      "cell_type": "code",
      "source": [
        "# print inverted right angle trangle by using \"*\" in python\n",
        "num=int(input(\"Enter th number of rows: \"))\n",
        "for i in range(num,0,-1):\n",
        "  for j in range(i):\n",
        "    print(\"* \",end=\" \")\n",
        "  print()"
      ],
      "metadata": {
        "colab": {
          "base_uri": "https://localhost:8080/"
        },
        "id": "bWyGOCyjLo7C",
        "outputId": "ef90a218-4083-4595-cfcd-cc99cc6b4742"
      },
      "execution_count": null,
      "outputs": [
        {
          "output_type": "stream",
          "name": "stdout",
          "text": [
            "Enter th number of rows: 6\n",
            "*  *  *  *  *  *  \n",
            "*  *  *  *  *  \n",
            "*  *  *  *  \n",
            "*  *  *  \n",
            "*  *  \n",
            "*  \n"
          ]
        }
      ]
    },
    {
      "cell_type": "code",
      "source": [
        "# print a shape pattern by using \"*\" in python\n",
        "# first we will make rough seleton of rows*column\n",
        "for row in range(7):      # here we take 6 rows \n",
        "\n",
        "   for col in range(5):   # here we take 4 column  \n",
        "\n",
        "     if ((col==0 or col==(4)) and row!=0) or ((row==0 or row==3) and (col>0 and col<4)):\n",
        "        print(\"*\",end=\"\")\n",
        "    \n",
        "     else:\n",
        "        print(end=\" \")\n",
        "   print()    "
      ],
      "metadata": {
        "colab": {
          "base_uri": "https://localhost:8080/"
        },
        "id": "1j7RjrLROjal",
        "outputId": "8c9db47f-11aa-4bf3-9e2f-ea6a6abe09c0"
      },
      "execution_count": null,
      "outputs": [
        {
          "output_type": "stream",
          "name": "stdout",
          "text": [
            " *** \n",
            "*   *\n",
            "*   *\n",
            "*****\n",
            "*   *\n",
            "*   *\n",
            "*   *\n"
          ]
        }
      ]
    },
    {
      "cell_type": "code",
      "source": [],
      "metadata": {
        "id": "HqL-1D_LUgHc"
      },
      "execution_count": null,
      "outputs": []
    }
  ]
}