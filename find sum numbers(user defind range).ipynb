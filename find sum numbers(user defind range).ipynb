{
  "nbformat": 4,
  "nbformat_minor": 0,
  "metadata": {
    "colab": {
      "provenance": [],
      "authorship_tag": "ABX9TyOYy8aOub2RhvRpDuO0HQHj",
      "include_colab_link": true
    },
    "kernelspec": {
      "name": "python3",
      "display_name": "Python 3"
    },
    "language_info": {
      "name": "python"
    }
  },
  "cells": [
    {
      "cell_type": "markdown",
      "metadata": {
        "id": "view-in-github",
        "colab_type": "text"
      },
      "source": [
        "<a href=\"https://colab.research.google.com/github/Amarsinh0/control-and-flow-statements/blob/main/find%20sum%20numbers(user%20defind%20range).ipynb\" target=\"_parent\"><img src=\"https://colab.research.google.com/assets/colab-badge.svg\" alt=\"Open In Colab\"/></a>"
      ]
    },
    {
      "cell_type": "code",
      "execution_count": 4,
      "metadata": {
        "colab": {
          "base_uri": "https://localhost:8080/"
        },
        "id": "7TMii_qgv1im",
        "outputId": "06de89e4-94c5-4ec3-d186-1e885bade213"
      },
      "outputs": [
        {
          "output_type": "stream",
          "name": "stdout",
          "text": [
            "Enter the  first number:  12\n",
            "Enter the second number : 46\n",
            "Even numbers between 12 and 46 is=\n",
            "12 , 14 , 16 , 18 , 20 , 22 , 24 , 26 , 28 , 30 , 32 , 34 , 36 , 38 , 40 , 42 , 44 , "
          ]
        }
      ],
      "source": [
        "# find even numbers between from user defind range\n",
        "num1=int(input(\"Enter the  first number:  \"))\n",
        "num2=int(input(\"Enter the second number : \"))\n",
        "print(\"Even numbers between\",num1,\"and\",num2,\"is=\")\n",
        "for i in range (num1,num2,2):\n",
        "  print(i,end=\" , \")\n",
        "\n"
      ]
    }
  ]
}