{
  "nbformat": 4,
  "nbformat_minor": 0,
  "metadata": {
    "colab": {
      "provenance": [],
      "authorship_tag": "ABX9TyM3gFBNJFo8WvrQMCSXDpEu",
      "include_colab_link": true
    },
    "kernelspec": {
      "name": "python3",
      "display_name": "Python 3"
    },
    "language_info": {
      "name": "python"
    }
  },
  "cells": [
    {
      "cell_type": "markdown",
      "metadata": {
        "id": "view-in-github",
        "colab_type": "text"
      },
      "source": [
        "<a href=\"https://colab.research.google.com/github/Amarsinh0/control-and-flow-statements/blob/main/smallest%20number%20.ipynb\" target=\"_parent\"><img src=\"https://colab.research.google.com/assets/colab-badge.svg\" alt=\"Open In Colab\"/></a>"
      ]
    },
    {
      "cell_type": "code",
      "execution_count": 3,
      "metadata": {
        "colab": {
          "base_uri": "https://localhost:8080/"
        },
        "id": "KYxX32PTggDL",
        "outputId": "88cf06de-7ec7-4f61-974f-742fae4166b6"
      },
      "outputs": [
        {
          "output_type": "stream",
          "name": "stdout",
          "text": [
            "enter the num1: 54\n",
            "enter the num2: 6\n",
            "enter the num3: 78\n",
            "6  is smallest number \n"
          ]
        }
      ],
      "source": [
        "# find smallest number\n",
        "a=int(input(\"enter the num1: \"))\n",
        "b=int(input(\"enter the num2: \"))\n",
        "c=int(input(\"enter the num3: \"))\n",
        "\n",
        "if b>a<c:\n",
        "  print(a,\" is smallest number \")\n",
        "  \n",
        "elif a>b<c:\n",
        "  print(b,\" is smallest number \")\n",
        "   \n",
        "else:\n",
        "  print(c,\"is smallest number \")\n"
      ]
    }
  ]
}