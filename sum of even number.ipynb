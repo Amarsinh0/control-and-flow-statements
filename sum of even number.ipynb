{
  "nbformat": 4,
  "nbformat_minor": 0,
  "metadata": {
    "colab": {
      "provenance": [],
      "authorship_tag": "ABX9TyM+tWlRS+V14MBsTWBRpy+5",
      "include_colab_link": true
    },
    "kernelspec": {
      "name": "python3",
      "display_name": "Python 3"
    },
    "language_info": {
      "name": "python"
    }
  },
  "cells": [
    {
      "cell_type": "markdown",
      "metadata": {
        "id": "view-in-github",
        "colab_type": "text"
      },
      "source": [
        "<a href=\"https://colab.research.google.com/github/Amarsinh0/control-and-flow-statements/blob/main/sum%20of%20even%20number.ipynb\" target=\"_parent\"><img src=\"https://colab.research.google.com/assets/colab-badge.svg\" alt=\"Open In Colab\"/></a>"
      ]
    },
    {
      "cell_type": "code",
      "execution_count": 2,
      "metadata": {
        "colab": {
          "base_uri": "https://localhost:8080/"
        },
        "id": "mQI1RSBe9wUS",
        "outputId": "32a82952-d6a8-463b-ac1c-756c55bda7eb"
      },
      "outputs": [
        {
          "output_type": "stream",
          "name": "stdout",
          "text": [
            "sum of first 10 even number using nested loop is :  110\n",
            "sum of first 10 even number by increment method is : 110\n"
          ]
        }
      ],
      "source": [
        "# sum of first 10 even number using nested loop and increment method\n",
        "\n",
        "sum=0\n",
        "for i in range(2,22):\n",
        "  if i%2==0:\n",
        "   sum=sum+i\n",
        "print(\"sum of first 10 even number using nested loop is : \",sum)\n",
        "\n",
        "add=0\n",
        "for i in range(2,22,2):\n",
        "    add=add+i\n",
        "print(\"sum of first 10 even number by increment method is :\",add) \n",
        "\n",
        "\n"
      ]
    }
  ]
}