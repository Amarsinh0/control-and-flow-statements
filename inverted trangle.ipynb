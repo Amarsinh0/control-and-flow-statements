{
  "nbformat": 4,
  "nbformat_minor": 0,
  "metadata": {
    "colab": {
      "provenance": [],
      "authorship_tag": "ABX9TyOv8P7i/iSvAf9HGLephZlf",
      "include_colab_link": true
    },
    "kernelspec": {
      "name": "python3",
      "display_name": "Python 3"
    },
    "language_info": {
      "name": "python"
    }
  },
  "cells": [
    {
      "cell_type": "markdown",
      "metadata": {
        "id": "view-in-github",
        "colab_type": "text"
      },
      "source": [
        "<a href=\"https://colab.research.google.com/github/Amarsinh0/control-and-flow-statements/blob/main/inverted%20trangle.ipynb\" target=\"_parent\"><img src=\"https://colab.research.google.com/assets/colab-badge.svg\" alt=\"Open In Colab\"/></a>"
      ]
    },
    {
      "cell_type": "code",
      "execution_count": 1,
      "metadata": {
        "colab": {
          "base_uri": "https://localhost:8080/"
        },
        "id": "meZLjVIGNHPX",
        "outputId": "ef730f63-03b3-49ae-f3ee-3d10b77dcf54"
      },
      "outputs": [
        {
          "output_type": "stream",
          "name": "stdout",
          "text": [
            "Enter th number of rows: 5\n",
            "*  *  *  *  *  \n",
            "*  *  *  *  \n",
            "*  *  *  \n",
            "*  *  \n",
            "*  \n"
          ]
        }
      ],
      "source": [
        "# print inverted right angle trangle by using \"*\" in python\n",
        "num=int(input(\"Enter th number of rows: \"))\n",
        "for i in range(num,0,-1):\n",
        "  for j in range(i):\n",
        "    print(\"* \",end=\" \")\n",
        "  print()"
      ]
    }
  ]
}