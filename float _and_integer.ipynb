{
  "nbformat": 4,
  "nbformat_minor": 0,
  "metadata": {
    "colab": {
      "provenance": [],
      "include_colab_link": true
    },
    "kernelspec": {
      "name": "python3",
      "display_name": "Python 3"
    },
    "language_info": {
      "name": "python"
    }
  },
  "cells": [
    {
      "cell_type": "markdown",
      "metadata": {
        "id": "view-in-github",
        "colab_type": "text"
      },
      "source": [
        "<a href=\"https://colab.research.google.com/github/Amarsinh0/control-and-flow-statements/blob/main/float%20_and_integer.ipynb\" target=\"_parent\"><img src=\"https://colab.research.google.com/assets/colab-badge.svg\" alt=\"Open In Colab\"/></a>"
      ]
    },
    {
      "cell_type": "markdown",
      "source": [
        "1) In a cricket tournament, based on the outcome of a particular match a team gets following points:\n",
        "wins gets 3 points\n",
        "draws gets 1 points\n",
        "losses gets 0 points\n",
        "Team Aravali plays 8 matches in this tournament. It wins 4 matches, loses 3 matches and draws 1. What is the total number of points gained by the Team Aravali?"
      ],
      "metadata": {
        "id": "L5zYROH0p_7M"
      }
    },
    {
      "cell_type": "code",
      "source": [
        "wins=4\n",
        "draws=1\n",
        "loses=3\n",
        "Aravali=wins*3+draws*1+loses*0\n",
        "print(Aravali)"
      ],
      "metadata": {
        "colab": {
          "base_uri": "https://localhost:8080/"
        },
        "id": "n4jaCilLqEk2",
        "outputId": "a5b6fe46-08f5-43fe-e2fc-1640f168fb88"
      },
      "execution_count": 1,
      "outputs": [
        {
          "output_type": "stream",
          "name": "stdout",
          "text": [
            "13\n"
          ]
        }
      ]
    },
    {
      "cell_type": "markdown",
      "source": [
        "2) Root of a function is defined as the value where Consider a quadratic function Find the value of the function at points ."
      ],
      "metadata": {
        "id": "yiUQIdiUqzJV"
      }
    },
    {
      "cell_type": "code",
      "source": [
        "num1=int(input('Enter the value: '))\n",
        "ans1=num1^2+3*num1-4\n",
        "ans1"
      ],
      "metadata": {
        "colab": {
          "base_uri": "https://localhost:8080/"
        },
        "id": "DFomKIB5rSX9",
        "outputId": "2f343297-a25b-4d95-a384-f7c8d2030c68"
      },
      "execution_count": 30,
      "outputs": [
        {
          "name": "stdout",
          "output_type": "stream",
          "text": [
            "Enter the value: 4\n"
          ]
        },
        {
          "output_type": "execute_result",
          "data": {
            "text/plain": [
              "14"
            ]
          },
          "metadata": {},
          "execution_count": 30
        }
      ]
    },
    {
      "cell_type": "code",
      "source": [
        "num2=int(input('Enter the value: '))\n",
        "ans2=num2^2+3*num2-4\n",
        "ans2"
      ],
      "metadata": {
        "colab": {
          "base_uri": "https://localhost:8080/"
        },
        "id": "ITHoXDoxrqcr",
        "outputId": "a59921c0-c406-4ca9-d9ac-5096b86634b4"
      },
      "execution_count": 32,
      "outputs": [
        {
          "name": "stdout",
          "output_type": "stream",
          "text": [
            "Enter the value: -4\n"
          ]
        },
        {
          "output_type": "execute_result",
          "data": {
            "text/plain": [
              "14"
            ]
          },
          "metadata": {},
          "execution_count": 32
        }
      ]
    },
    {
      "cell_type": "code",
      "source": [
        "num3=int(input('enter the value: '))\n",
        "ans3=num3^2+3*num3-4\n",
        "ans3"
      ],
      "metadata": {
        "colab": {
          "base_uri": "https://localhost:8080/"
        },
        "id": "7caLKK5WrwP-",
        "outputId": "ebeaa1a4-7d7a-45ca-a788-1c02ca87dddd"
      },
      "execution_count": 33,
      "outputs": [
        {
          "name": "stdout",
          "output_type": "stream",
          "text": [
            "enter the value: 7\n"
          ]
        },
        {
          "output_type": "execute_result",
          "data": {
            "text/plain": [
              "20"
            ]
          },
          "metadata": {},
          "execution_count": 33
        }
      ]
    },
    {
      "cell_type": "code",
      "source": [
        "# Check whether 2 is a root of f(x)\n",
        "print(ans1==0)\n",
        "# Check whether -1 is a root of f(x)\n",
        "print(ans2==0)\n",
        "# Check whether 1 is a root of f(x)\n",
        "print(ans3==0)"
      ],
      "metadata": {
        "colab": {
          "base_uri": "https://localhost:8080/"
        },
        "id": "oUVrR8ohsRfD",
        "outputId": "985e5d7f-bb9d-4009-d469-dfcc35925d6b"
      },
      "execution_count": 34,
      "outputs": [
        {
          "output_type": "stream",
          "name": "stdout",
          "text": [
            "False\n",
            "False\n",
            "False\n"
          ]
        }
      ]
    },
    {
      "cell_type": "markdown",
      "source": [
        "3) A bag contains 45 apples, 65 oranges and 30 bananas. Find the percentage of each type of food items in the bag."
      ],
      "metadata": {
        "id": "kxE5mrUQspZw"
      }
    },
    {
      "cell_type": "code",
      "source": [
        "apple=45\n",
        "oranges=65\n",
        "banana=30\n",
        "total=apple+oranges+banana\n",
        "total\n",
        "# Calculate the percentage of apples \n",
        "apple=(apple/total)*100\n",
        "f'percentage of apple is= {apple}'"
      ],
      "metadata": {
        "colab": {
          "base_uri": "https://localhost:8080/",
          "height": 35
        },
        "id": "4f_iftJCstV3",
        "outputId": "86b5848b-41a9-4bc0-a1f0-6c6a1610b2a1"
      },
      "execution_count": 35,
      "outputs": [
        {
          "output_type": "execute_result",
          "data": {
            "text/plain": [
              "'percentage of apple is= 32.142857142857146'"
            ],
            "application/vnd.google.colaboratory.intrinsic+json": {
              "type": "string"
            }
          },
          "metadata": {},
          "execution_count": 35
        }
      ]
    },
    {
      "cell_type": "code",
      "source": [
        "# Calculate the percentage of oranges\n",
        "oranges=(oranges/total)*100\n",
        "f'percentage of oranges is ={oranges}'"
      ],
      "metadata": {
        "colab": {
          "base_uri": "https://localhost:8080/",
          "height": 35
        },
        "id": "OcihqVrMuhW8",
        "outputId": "752d5af2-0251-4499-e8e7-aa310a5a902f"
      },
      "execution_count": 37,
      "outputs": [
        {
          "output_type": "execute_result",
          "data": {
            "text/plain": [
              "'percentage of oranges is =46.42857142857143'"
            ],
            "application/vnd.google.colaboratory.intrinsic+json": {
              "type": "string"
            }
          },
          "metadata": {},
          "execution_count": 37
        }
      ]
    },
    {
      "cell_type": "code",
      "source": [
        "# Calculate the percentage of bananas\n",
        "banana=(banana/total)*100\n",
        "f'percentage of banana is= {banana}'"
      ],
      "metadata": {
        "colab": {
          "base_uri": "https://localhost:8080/",
          "height": 35
        },
        "id": "1210Kbcuus-0",
        "outputId": "55d6aec9-5fa7-4889-cccb-5f9d9cc72d41"
      },
      "execution_count": 38,
      "outputs": [
        {
          "output_type": "execute_result",
          "data": {
            "text/plain": [
              "'percentage of banana is= 21.428571428571427'"
            ],
            "application/vnd.google.colaboratory.intrinsic+json": {
              "type": "string"
            }
          },
          "metadata": {},
          "execution_count": 38
        }
      ]
    },
    {
      "cell_type": "markdown",
      "source": [
        "4) You were playing a fun guessing game during your school break. There were a total of 100 participants excluding you. Out of these 100 people, 30 were Maths Majors, 45 were Economics Majors and 25 were Physics Majors.\n",
        "\n",
        "The game was divided into three rounds.\n",
        "\n",
        "In the first round, you had to guess the number of Maths Majors and you correctly guessed 20 of them.\n",
        "In the second round, you had to guess the number of Economics Majors and you correctly guessed 30 of them.\n",
        "In the final third round, you had to guess the number of Physics Majors and you correctly guessed 20 of them."
      ],
      "metadata": {
        "id": "wlGXQxsbuxzC"
      }
    },
    {
      "cell_type": "code",
      "source": [
        "maths=30\n",
        "ecos=45\n",
        "phys=25\n",
        "cors=20\n",
        "c_eco=30\n",
        "c_phy=20\n",
        "#math accuracy\n",
        "math1=(maths/maths)*100\n",
        "print(math1)\n",
        "\n",
        "#eco accuracy\n",
        "e_a=(c_eco/ecos)*100\n",
        "print(e_a)\n",
        "\n",
        "#phy accuracy\n",
        "p_a=(c_phy/phys)*100\n",
        "print(p_a)"
      ],
      "metadata": {
        "colab": {
          "base_uri": "https://localhost:8080/"
        },
        "id": "Txrl5YDmu9X5",
        "outputId": "ba6427fa-d475-49ce-ed07-0edd0fdb29a0"
      },
      "execution_count": 45,
      "outputs": [
        {
          "output_type": "stream",
          "name": "stdout",
          "text": [
            "100.0\n",
            "66.66666666666666\n",
            "80.0\n"
          ]
        }
      ]
    },
    {
      "cell_type": "code",
      "source": [
        "total=(math1+e_a+p_a)/3\n",
        "f'total accuracy is {total}'"
      ],
      "metadata": {
        "colab": {
          "base_uri": "https://localhost:8080/",
          "height": 35
        },
        "id": "NnWc9BXavYDR",
        "outputId": "05441e2e-3973-459c-a8e1-495089ad6f2d"
      },
      "execution_count": 44,
      "outputs": [
        {
          "output_type": "execute_result",
          "data": {
            "text/plain": [
              "'total accuracy is 82.22222222222221'"
            ],
            "application/vnd.google.colaboratory.intrinsic+json": {
              "type": "string"
            }
          },
          "metadata": {},
          "execution_count": 44
        }
      ]
    }
  ]
}