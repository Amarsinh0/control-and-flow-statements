{
  "nbformat": 4,
  "nbformat_minor": 0,
  "metadata": {
    "colab": {
      "provenance": [],
      "authorship_tag": "ABX9TyMEhyZVUfYoDzHIYV/e0dNv",
      "include_colab_link": true
    },
    "kernelspec": {
      "name": "python3",
      "display_name": "Python 3"
    },
    "language_info": {
      "name": "python"
    }
  },
  "cells": [
    {
      "cell_type": "markdown",
      "metadata": {
        "id": "view-in-github",
        "colab_type": "text"
      },
      "source": [
        "<a href=\"https://colab.research.google.com/github/Amarsinh0/control-and-flow-statements/blob/main/int.%20numbers%20convert%20in%20to%20char.ipynb\" target=\"_parent\"><img src=\"https://colab.research.google.com/assets/colab-badge.svg\" alt=\"Open In Colab\"/></a>"
      ]
    },
    {
      "cell_type": "code",
      "execution_count": 1,
      "metadata": {
        "colab": {
          "base_uri": "https://localhost:8080/"
        },
        "id": "q1xzdlAKEkKo",
        "outputId": "18fae8c7-2d60-41ba-cf0a-62b19bd30594"
      },
      "outputs": [
        {
          "output_type": "stream",
          "name": "stdout",
          "text": [
            "Enter any number: 2023\n",
            "two zero two three "
          ]
        }
      ],
      "source": [
        "#write a programe to display the number names of digit ofa number entered by user\n",
        "# example-input -123 :  output: one two three\n",
        "\n",
        "num=input(\"Enter any number: \")\n",
        "\n",
        "list=list(num)\n",
        "d={0:\"zero\",1:\"one\",2:\"two\",3:\"three\",4:\"four\",5:\"five\",6:\"six\",7:\"seven\",8:\"eight\",9:\"nine\"}\n",
        "\n",
        "for i in list:\n",
        "\n",
        " print(d[int(i)],end=' ')"
      ]
    }
  ]
}