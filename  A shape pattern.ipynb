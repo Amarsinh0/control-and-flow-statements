{
  "nbformat": 4,
  "nbformat_minor": 0,
  "metadata": {
    "colab": {
      "provenance": [],
      "authorship_tag": "ABX9TyOKmXz77XrLfyJAiq0fjZMa",
      "include_colab_link": true
    },
    "kernelspec": {
      "name": "python3",
      "display_name": "Python 3"
    },
    "language_info": {
      "name": "python"
    }
  },
  "cells": [
    {
      "cell_type": "markdown",
      "metadata": {
        "id": "view-in-github",
        "colab_type": "text"
      },
      "source": [
        "<a href=\"https://colab.research.google.com/github/Amarsinh0/control-and-flow-statements/blob/main/%20A%20shape%20pattern.ipynb\" target=\"_parent\"><img src=\"https://colab.research.google.com/assets/colab-badge.svg\" alt=\"Open In Colab\"/></a>"
      ]
    },
    {
      "cell_type": "code",
      "execution_count": 2,
      "metadata": {
        "colab": {
          "base_uri": "https://localhost:8080/"
        },
        "id": "NcZH4eO_0Bz9",
        "outputId": "966ca9ea-1a17-443d-c09c-eeb4e28402bd"
      },
      "outputs": [
        {
          "output_type": "stream",
          "name": "stdout",
          "text": [
            " *** \n",
            "*   *\n",
            "*   *\n",
            "*****\n",
            "*   *\n",
            "*   *\n",
            "*   *\n"
          ]
        }
      ],
      "source": [
        "# print A shape pattern by using \"*\" in python\n",
        "# first we will make rough seleton of rows*column\n",
        "for row in range(7):      # here we take 6 rows \n",
        "\n",
        "   for col in range(5):   # here we take 4 column  \n",
        "\n",
        "     if ((col==0 or col==(4)) and row!=0) or ((row==0 or row==3) and (col>0 and col<4)):\n",
        "        print(\"*\",end=\"\")\n",
        "    \n",
        "     else:\n",
        "        print(end=\" \")\n",
        "   print()    "
      ]
    }
  ]
}