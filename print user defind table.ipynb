{
  "nbformat": 4,
  "nbformat_minor": 0,
  "metadata": {
    "colab": {
      "provenance": [],
      "authorship_tag": "ABX9TyO/q+h6THELYcbgecLH5QP1",
      "include_colab_link": true
    },
    "kernelspec": {
      "name": "python3",
      "display_name": "Python 3"
    },
    "language_info": {
      "name": "python"
    }
  },
  "cells": [
    {
      "cell_type": "markdown",
      "metadata": {
        "id": "view-in-github",
        "colab_type": "text"
      },
      "source": [
        "<a href=\"https://colab.research.google.com/github/Amarsinh0/control-and-flow-statements/blob/main/print%20user%20defind%20table.ipynb\" target=\"_parent\"><img src=\"https://colab.research.google.com/assets/colab-badge.svg\" alt=\"Open In Colab\"/></a>"
      ]
    },
    {
      "cell_type": "code",
      "execution_count": 6,
      "metadata": {
        "colab": {
          "base_uri": "https://localhost:8080/"
        },
        "id": "mgCG9fHvQF2M",
        "outputId": "ca2450ac-f5dd-4188-e9dd-9a513e774eff"
      },
      "outputs": [
        {
          "output_type": "stream",
          "name": "stdout",
          "text": [
            "choose any the number to print table : 15\n",
            "15 * 1 = 15\n",
            "15 * 2 = 30\n",
            "15 * 3 = 45\n",
            "15 * 4 = 60\n",
            "15 * 5 = 75\n",
            "15 * 6 = 90\n",
            "15 * 7 = 105\n",
            "15 * 8 = 120\n",
            "15 * 9 = 135\n",
            "15 * 10 = 150\n"
          ]
        }
      ],
      "source": [
        "# write a program to print table the number enter from user\n",
        "num=int(input(\"choose any the number to print table : \"))\n",
        "for i in range(1,11):\n",
        "  print(num,\"*\",i,\"=\",num*i)\n",
        "\n"
      ]
    }
  ]
}