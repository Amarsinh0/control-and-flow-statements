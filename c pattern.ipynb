{
  "nbformat": 4,
  "nbformat_minor": 0,
  "metadata": {
    "colab": {
      "provenance": [],
      "authorship_tag": "ABX9TyPm7k9vyYP+lv21v5o6TATQ",
      "include_colab_link": true
    },
    "kernelspec": {
      "name": "python3",
      "display_name": "Python 3"
    },
    "language_info": {
      "name": "python"
    }
  },
  "cells": [
    {
      "cell_type": "markdown",
      "metadata": {
        "id": "view-in-github",
        "colab_type": "text"
      },
      "source": [
        "<a href=\"https://colab.research.google.com/github/Amarsinh0/control-and-flow-statements/blob/main/c%20pattern.ipynb\" target=\"_parent\"><img src=\"https://colab.research.google.com/assets/colab-badge.svg\" alt=\"Open In Colab\"/></a>"
      ]
    },
    {
      "cell_type": "code",
      "execution_count": 2,
      "metadata": {
        "colab": {
          "base_uri": "https://localhost:8080/"
        },
        "id": "pvjH5fNv4jcZ",
        "outputId": "1593224b-9ba7-428f-ad90-0fedffae507f"
      },
      "outputs": [
        {
          "output_type": "stream",
          "name": "stdout",
          "text": [
            "  *  *  *    \n",
            "*          \n",
            "*          \n",
            "*          \n",
            "*          \n",
            "*          \n",
            "  *  *  *    \n"
          ]
        }
      ],
      "source": [
        "#\"c\"pattern using for loop\n",
        "\n",
        "for row in range(7):\n",
        "    for col in range(5):\n",
        "        if ((col==0 ) and (row!=0 and row!=6)) or ((row==0 or row==6) and (col>0 and col<4)):\n",
        "            print(\"* \",end=\" \")\n",
        "        else:\n",
        "            print(end=\"  \")\n",
        "\n",
        "    print()\n"
      ]
    }
  ]
}