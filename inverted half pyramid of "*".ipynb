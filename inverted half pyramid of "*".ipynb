{
  "nbformat": 4,
  "nbformat_minor": 0,
  "metadata": {
    "colab": {
      "provenance": [],
      "authorship_tag": "ABX9TyOuGeXL/cDFB5dF0ofHvA3O",
      "include_colab_link": true
    },
    "kernelspec": {
      "name": "python3",
      "display_name": "Python 3"
    },
    "language_info": {
      "name": "python"
    }
  },
  "cells": [
    {
      "cell_type": "markdown",
      "metadata": {
        "id": "view-in-github",
        "colab_type": "text"
      },
      "source": [
        "<a href=\"https://colab.research.google.com/github/Amarsinh0/control-and-flow-statements/blob/main/inverted%20half%20pyramid%20of%20%22*%22.ipynb\" target=\"_parent\"><img src=\"https://colab.research.google.com/assets/colab-badge.svg\" alt=\"Open In Colab\"/></a>"
      ]
    },
    {
      "cell_type": "code",
      "execution_count": 1,
      "metadata": {
        "colab": {
          "base_uri": "https://localhost:8080/"
        },
        "id": "WnQ6pSlRzHeD",
        "outputId": "77204075-d0cb-4398-9f4f-4a83c1ee65f5"
      },
      "outputs": [
        {
          "output_type": "stream",
          "name": "stdout",
          "text": [
            "Enter the number of rows:  6\n",
            "*  *  *  *  *  *  \n",
            "\n",
            "*  *  *  *  *  \n",
            "\n",
            "*  *  *  *  \n",
            "\n",
            "*  *  *  \n",
            "\n",
            "*  *  \n",
            "\n",
            "*  \n",
            "\n"
          ]
        }
      ],
      "source": [
        "# program to inverted half pyramid using * in python\n",
        "rows=int(input(\"Enter the number of rows:  \"))\n",
        "for i in range(rows,0,-1):\n",
        "  for j in range(0,i):\n",
        "                 \n",
        "    print(\"* \",end=\" \")\n",
        "  print('\\n')"
      ]
    }
  ]
}