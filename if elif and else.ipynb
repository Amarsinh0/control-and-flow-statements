{
  "nbformat": 4,
  "nbformat_minor": 0,
  "metadata": {
    "colab": {
      "provenance": [],
      "authorship_tag": "ABX9TyObCESPjWKdSWCqzY0tLSa+",
      "include_colab_link": true
    },
    "kernelspec": {
      "name": "python3",
      "display_name": "Python 3"
    },
    "language_info": {
      "name": "python"
    }
  },
  "cells": [
    {
      "cell_type": "markdown",
      "metadata": {
        "id": "view-in-github",
        "colab_type": "text"
      },
      "source": [
        "<a href=\"https://colab.research.google.com/github/Amarsinh0/control-and-flow-statements/blob/main/if%20elif%20and%20else.ipynb\" target=\"_parent\"><img src=\"https://colab.research.google.com/assets/colab-badge.svg\" alt=\"Open In Colab\"/></a>"
      ]
    },
    {
      "cell_type": "code",
      "execution_count": 3,
      "metadata": {
        "colab": {
          "base_uri": "https://localhost:8080/"
        },
        "id": "xI7Rp1mYc4ic",
        "outputId": "05c8c731-6bf7-460f-b3f4-c7c9b98c748d"
      },
      "outputs": [
        {
          "output_type": "stream",
          "name": "stdout",
          "text": [
            "enter the num1: 13\n",
            "enter the num2: 15\n",
            "enter the num3: 7\n",
            "15  is gretest number \n"
          ]
        }
      ],
      "source": [
        "# find maximum number\n",
        "\n",
        "a=int(input(\"enter the num1: \"))\n",
        "b=int(input(\"enter the num2: \"))\n",
        "c=int(input(\"enter the num3: \"))\n",
        "\n",
        "if b<a>c:\n",
        "  print(a,\" is gretest number \")\n",
        "  \n",
        "elif a<b>c:\n",
        "  print(b,\" is gretest number \")\n",
        "   \n",
        "else:\n",
        "  print(c,\"is gretest number \")\n"
      ]
    }
  ]
}