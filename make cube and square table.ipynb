{
  "nbformat": 4,
  "nbformat_minor": 0,
  "metadata": {
    "colab": {
      "provenance": [],
      "authorship_tag": "ABX9TyPqPN6yg0hQHOVszuv9X4Hw",
      "include_colab_link": true
    },
    "kernelspec": {
      "name": "python3",
      "display_name": "Python 3"
    },
    "language_info": {
      "name": "python"
    }
  },
  "cells": [
    {
      "cell_type": "markdown",
      "metadata": {
        "id": "view-in-github",
        "colab_type": "text"
      },
      "source": [
        "<a href=\"https://colab.research.google.com/github/Amarsinh0/control-and-flow-statements/blob/main/make%20cube%20and%20square%20table.ipynb\" target=\"_parent\"><img src=\"https://colab.research.google.com/assets/colab-badge.svg\" alt=\"Open In Colab\"/></a>"
      ]
    },
    {
      "cell_type": "code",
      "execution_count": 2,
      "metadata": {
        "colab": {
          "base_uri": "https://localhost:8080/"
        },
        "id": "aRcfcfWZ_-bo",
        "outputId": "485d1280-0655-4f85-9156-1b7045e95d28"
      },
      "outputs": [
        {
          "output_type": "stream",
          "name": "stdout",
          "text": [
            "number\t\tsquare\t\t\t\tcube\n",
            "1 \t\t\t 1  \t\t\t 1\n",
            "2 \t\t\t 4  \t\t\t 8\n",
            "3 \t\t\t 9  \t\t\t 27\n",
            "4 \t\t\t 16  \t\t\t 64\n",
            "5 \t\t\t 25  \t\t\t 125\n",
            "6 \t\t\t 36  \t\t\t 216\n",
            "7 \t\t\t 49  \t\t\t 343\n",
            "8 \t\t\t 64  \t\t\t 512\n",
            "9 \t\t\t 81  \t\t\t 729\n",
            "10 \t\t\t 100  \t\t\t 1000\n"
          ]
        }
      ],
      "source": [
        "#find th square and cube of 1 to 10 numbers:\n",
        "print(\"number\\t\\tsquare\\t\\t\\t\\tcube\")\n",
        "for i in range (1,11):\n",
        "    print(i,\"\\t\\t\\t\",i**2,\" \\t\\t\\t\",i**3)"
      ]
    }
  ]
}