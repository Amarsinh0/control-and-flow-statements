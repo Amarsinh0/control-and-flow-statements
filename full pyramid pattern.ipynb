{
  "nbformat": 4,
  "nbformat_minor": 0,
  "metadata": {
    "colab": {
      "provenance": [],
      "authorship_tag": "ABX9TyPmUUwFjcANa6xYX70FC5GX",
      "include_colab_link": true
    },
    "kernelspec": {
      "name": "python3",
      "display_name": "Python 3"
    },
    "language_info": {
      "name": "python"
    }
  },
  "cells": [
    {
      "cell_type": "markdown",
      "metadata": {
        "id": "view-in-github",
        "colab_type": "text"
      },
      "source": [
        "<a href=\"https://colab.research.google.com/github/Amarsinh0/control-and-flow-statements/blob/main/full%20pyramid%20pattern.ipynb\" target=\"_parent\"><img src=\"https://colab.research.google.com/assets/colab-badge.svg\" alt=\"Open In Colab\"/></a>"
      ]
    },
    {
      "cell_type": "code",
      "execution_count": 1,
      "metadata": {
        "colab": {
          "base_uri": "https://localhost:8080/"
        },
        "id": "xR9RA47TDAUZ",
        "outputId": "5bc04dfa-d4df-4eb7-9ef2-3dfd10c402dc"
      },
      "outputs": [
        {
          "output_type": "stream",
          "name": "stdout",
          "text": [
            "Enter the number of rows : 6\n",
            "     * \n",
            "    * * \n",
            "   * * * \n",
            "  * * * * \n",
            " * * * * * \n",
            "* * * * * * \n"
          ]
        }
      ],
      "source": [
        "# python pattern program: pyramid of \"*\"\n",
        "rows=int(input(\"Enter the number of rows : \"))\n",
        "for i in range(0,rows):\n",
        "  for j in range(0,rows-i-1):\n",
        "    print(end=\" \")\n",
        "  for j in range (0,i+1):\n",
        "    print('*',end=\" \")\n",
        "  print()\n",
        "  "
      ]
    }
  ]
}